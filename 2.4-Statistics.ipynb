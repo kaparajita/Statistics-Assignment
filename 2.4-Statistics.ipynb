{
 "cells": [
  {
   "cell_type": "markdown",
   "metadata": {},
   "source": [
    "1.Is gender independent of education level? A random sample of 395 people were surveyed and each person was asked to report the highest education level they obtained. The data that resulted from the survey is summarized in the following table: High-School Bachelor Masters Ph.D. Total Female 60 54 46 41 201 Male 40 44 53 57 194 Total 100 98 99 98 395 Question: Are gender and education level dependent at 5% level of significance? In other words, given the data collected above, is there a relationship between the gender of an individual and the level of education that they have obtained?\n",
    "\n",
    "\n",
    "Chi-Square indipendence\n",
    "H0:Null Hypothesis: Thest gender and eduation catagorical variable are indepndent\n",
    "H1:alternate Hypothesis: Thest gender and eduation catagorical variable are dependent\n",
    "level of significace =5%= 0.05"
   ]
  },
  {
   "cell_type": "code",
   "execution_count": 1,
   "metadata": {},
   "outputs": [
    {
     "name": "stdout",
     "output_type": "stream",
     "text": [
      "      Sex    Education  Marks\n",
      "0  Female  High-School     60\n",
      "1  Female     Bachelor     54\n",
      "2  Female      Masters     46\n",
      "3  Female        Ph.D.     41\n",
      "4    Male  High-School     40\n",
      "5    Male     Bachelor     44\n",
      "6    Male      Masters     53\n",
      "7    Male        Ph.D.     57\n"
     ]
    }
   ],
   "source": [
    "import numpy as np\n",
    "import pandas as pd\n",
    "import scipy.stats as stats\n",
    "female_list = [60,54,46,41]\n",
    "male_list = [40,44,53,57]\n",
    "\n",
    "marks = female_list + male_list\n",
    "marks\n",
    "\n",
    "sex = [\"Female\",\"Female\",\"Female\",\"Female\",\"Male\",\"Male\",\"Male\",\"Male\"]\n",
    "education = [\"High-School\", \"Bachelor\", \"Masters\", \"Ph.D.\",\"High-School\", \"Bachelor\", \"Masters\", \"Ph.D.\"]\n",
    "df_education = pd.DataFrame({\"Sex\":sex,\"Education\":education,\"Marks\":marks})\n",
    "print(df_education)"
   ]
  },
  {
   "cell_type": "code",
   "execution_count": 2,
   "metadata": {},
   "outputs": [
    {
     "data": {
      "text/html": [
       "<div>\n",
       "<style scoped>\n",
       "    .dataframe tbody tr th:only-of-type {\n",
       "        vertical-align: middle;\n",
       "    }\n",
       "\n",
       "    .dataframe tbody tr th {\n",
       "        vertical-align: top;\n",
       "    }\n",
       "\n",
       "    .dataframe thead th {\n",
       "        text-align: right;\n",
       "    }\n",
       "</style>\n",
       "<table border=\"1\" class=\"dataframe\">\n",
       "  <thead>\n",
       "    <tr style=\"text-align: right;\">\n",
       "      <th>Education</th>\n",
       "      <th>Bachelor</th>\n",
       "      <th>High-School</th>\n",
       "      <th>Masters</th>\n",
       "      <th>Ph.D.</th>\n",
       "      <th>All</th>\n",
       "    </tr>\n",
       "    <tr>\n",
       "      <th>Sex</th>\n",
       "      <th></th>\n",
       "      <th></th>\n",
       "      <th></th>\n",
       "      <th></th>\n",
       "      <th></th>\n",
       "    </tr>\n",
       "  </thead>\n",
       "  <tbody>\n",
       "    <tr>\n",
       "      <th>Female</th>\n",
       "      <td>54</td>\n",
       "      <td>60</td>\n",
       "      <td>46</td>\n",
       "      <td>41</td>\n",
       "      <td>201</td>\n",
       "    </tr>\n",
       "    <tr>\n",
       "      <th>Male</th>\n",
       "      <td>44</td>\n",
       "      <td>40</td>\n",
       "      <td>53</td>\n",
       "      <td>57</td>\n",
       "      <td>194</td>\n",
       "    </tr>\n",
       "    <tr>\n",
       "      <th>All</th>\n",
       "      <td>98</td>\n",
       "      <td>100</td>\n",
       "      <td>99</td>\n",
       "      <td>98</td>\n",
       "      <td>395</td>\n",
       "    </tr>\n",
       "  </tbody>\n",
       "</table>\n",
       "</div>"
      ],
      "text/plain": [
       "Education  Bachelor  High-School  Masters  Ph.D.  All\n",
       "Sex                                                  \n",
       "Female           54           60       46     41  201\n",
       "Male             44           40       53     57  194\n",
       "All              98          100       99     98  395"
      ]
     },
     "execution_count": 2,
     "metadata": {},
     "output_type": "execute_result"
    }
   ],
   "source": [
    "df2 = pd.crosstab(df_education.Sex, df_education.Education,df_education.Marks, aggfunc=\"sum\",margins=True)\n",
    "df2"
   ]
  },
  {
   "cell_type": "code",
   "execution_count": 3,
   "metadata": {},
   "outputs": [
    {
     "data": {
      "text/html": [
       "<div>\n",
       "<style scoped>\n",
       "    .dataframe tbody tr th:only-of-type {\n",
       "        vertical-align: middle;\n",
       "    }\n",
       "\n",
       "    .dataframe tbody tr th {\n",
       "        vertical-align: top;\n",
       "    }\n",
       "\n",
       "    .dataframe thead th {\n",
       "        text-align: right;\n",
       "    }\n",
       "</style>\n",
       "<table border=\"1\" class=\"dataframe\">\n",
       "  <thead>\n",
       "    <tr style=\"text-align: right;\">\n",
       "      <th></th>\n",
       "      <th>Bachelors</th>\n",
       "      <th>High School</th>\n",
       "      <th>Masters</th>\n",
       "      <th>Ph.d.</th>\n",
       "      <th>row_totals</th>\n",
       "    </tr>\n",
       "  </thead>\n",
       "  <tbody>\n",
       "    <tr>\n",
       "      <th>Female</th>\n",
       "      <td>54</td>\n",
       "      <td>60</td>\n",
       "      <td>46</td>\n",
       "      <td>41</td>\n",
       "      <td>201</td>\n",
       "    </tr>\n",
       "    <tr>\n",
       "      <th>Male</th>\n",
       "      <td>44</td>\n",
       "      <td>40</td>\n",
       "      <td>53</td>\n",
       "      <td>57</td>\n",
       "      <td>194</td>\n",
       "    </tr>\n",
       "    <tr>\n",
       "      <th>col_totals</th>\n",
       "      <td>98</td>\n",
       "      <td>100</td>\n",
       "      <td>99</td>\n",
       "      <td>98</td>\n",
       "      <td>395</td>\n",
       "    </tr>\n",
       "  </tbody>\n",
       "</table>\n",
       "</div>"
      ],
      "text/plain": [
       "            Bachelors  High School  Masters  Ph.d.  row_totals\n",
       "Female             54           60       46     41         201\n",
       "Male               44           40       53     57         194\n",
       "col_totals         98          100       99     98         395"
      ]
     },
     "execution_count": 3,
     "metadata": {},
     "output_type": "execute_result"
    }
   ],
   "source": [
    "df2.columns = [\"Bachelors\",\"High School\",\"Masters\",\"Ph.d.\",\"row_totals\"]\n",
    "\n",
    "df2.index = [\"Female\",\"Male\",\"col_totals\"]\n",
    "df2"
   ]
  },
  {
   "cell_type": "code",
   "execution_count": 4,
   "metadata": {},
   "outputs": [
    {
     "data": {
      "text/html": [
       "<div>\n",
       "<style scoped>\n",
       "    .dataframe tbody tr th:only-of-type {\n",
       "        vertical-align: middle;\n",
       "    }\n",
       "\n",
       "    .dataframe tbody tr th {\n",
       "        vertical-align: top;\n",
       "    }\n",
       "\n",
       "    .dataframe thead th {\n",
       "        text-align: right;\n",
       "    }\n",
       "</style>\n",
       "<table border=\"1\" class=\"dataframe\">\n",
       "  <thead>\n",
       "    <tr style=\"text-align: right;\">\n",
       "      <th></th>\n",
       "      <th>Bachelors</th>\n",
       "      <th>High School</th>\n",
       "      <th>Masters</th>\n",
       "      <th>Ph.d.</th>\n",
       "    </tr>\n",
       "  </thead>\n",
       "  <tbody>\n",
       "    <tr>\n",
       "      <th>Female</th>\n",
       "      <td>54</td>\n",
       "      <td>60</td>\n",
       "      <td>46</td>\n",
       "      <td>41</td>\n",
       "    </tr>\n",
       "    <tr>\n",
       "      <th>Male</th>\n",
       "      <td>44</td>\n",
       "      <td>40</td>\n",
       "      <td>53</td>\n",
       "      <td>57</td>\n",
       "    </tr>\n",
       "  </tbody>\n",
       "</table>\n",
       "</div>"
      ],
      "text/plain": [
       "        Bachelors  High School  Masters  Ph.d.\n",
       "Female         54           60       46     41\n",
       "Male           44           40       53     57"
      ]
     },
     "execution_count": 4,
     "metadata": {},
     "output_type": "execute_result"
    }
   ],
   "source": [
    "#Excluding total fields\n",
    "observed = df2.iloc[0:2,0:4]\n",
    "observed"
   ]
  },
  {
   "cell_type": "code",
   "execution_count": 5,
   "metadata": {},
   "outputs": [
    {
     "data": {
      "text/plain": [
       "array([[49.86835443, 50.88607595, 50.37721519, 49.86835443],\n",
       "       [48.13164557, 49.11392405, 48.62278481, 48.13164557]])"
      ]
     },
     "execution_count": 5,
     "metadata": {},
     "output_type": "execute_result"
    }
   ],
   "source": [
    "expedted = np.outer(df2[\"row_totals\"][0:2],df2.loc[\"col_totals\"][0:4])/395.0\n",
    "expedted"
   ]
  },
  {
   "cell_type": "code",
   "execution_count": 6,
   "metadata": {},
   "outputs": [
    {
     "data": {
      "text/plain": [
       "8.006066246262538"
      ]
     },
     "execution_count": 6,
     "metadata": {},
     "output_type": "execute_result"
    }
   ],
   "source": [
    "chi_squared_stat = ((observed - expedted)**2/expedted).sum().sum()\n",
    "chi_squared_stat"
   ]
  },
  {
   "cell_type": "code",
   "execution_count": 7,
   "metadata": {},
   "outputs": [
    {
     "data": {
      "text/plain": [
       "(8.006066246262538,\n",
       " 0.045886500891747214,\n",
       " 3,\n",
       " array([[49.86835443, 50.88607595, 50.37721519, 49.86835443],\n",
       "        [48.13164557, 49.11392405, 48.62278481, 48.13164557]]))"
      ]
     },
     "execution_count": 7,
     "metadata": {},
     "output_type": "execute_result"
    }
   ],
   "source": [
    "stats.chi2_contingency(observed= observed)"
   ]
  },
  {
   "cell_type": "markdown",
   "metadata": {},
   "source": [
    "Note: The degrees of freedom for a test of independence equals the product of the number of categories in each variable minus 1. In this case we have a 2x4 table so df = 1x3 = 3.\n",
    "\n",
    "Check chi square table critical value where degree of freedome = 3 and significance level 5% = 0.05 The critical value with 3 degree of freedom is 7.815. 8.006> 7.815. therefore we reject the null hypothesis and conclude that the education level depends on gender at a 5% level of significance."
   ]
  },
  {
   "cell_type": "markdown",
   "metadata": {},
   "source": [
    "2.Using the following data, perform a one-way analysis of variance using α=.05.\n",
    "Write up the results in APA format.\n",
    "[Group1: 51, 45, 33, 45, 67]\n",
    "[Group2: 23, 43, 23, 43, 45]\n",
    "[Group3: 56, 76, 74, 87, 56]"
   ]
  },
  {
   "cell_type": "code",
   "execution_count": 9,
   "metadata": {},
   "outputs": [
    {
     "name": "stdout",
     "output_type": "stream",
     "text": [
      "F Statistic value 9.747205503009463 , p-value 0.0030597541434430556\n",
      "True\n"
     ]
    }
   ],
   "source": [
    "#The analysis of variance or ANOVA is a statistical inference test that lets you compare multiple groups at the same time.\n",
    "#The one-way ANOVA tests whether the mean of some numeric variable differs across the levels of one categorical variable. \n",
    "#It essentially answers the question: do any of the group means differ from one another? \n",
    "\n",
    "#The scipy library has a function for carrying out one-way ANOVA tests called scipy.stats.f_oneway()\n",
    "import scipy.stats as stats\n",
    "Group1 = [51, 45, 33, 45, 67]\n",
    "Group2 = [23, 43, 23, 43, 45]\n",
    "Group3 = [56, 76, 74, 87, 56]\n",
    "# Perform the ANOVA\n",
    "statistic, pvalue = stats.f_oneway(Group1,Group2,Group3)\n",
    "print(\"F Statistic value {} , p-value {}\".format(statistic,pvalue))\n",
    "if pvalue < 0.05:\n",
    "    print('True')\n",
    "else:\n",
    "    print('False')"
   ]
  },
  {
   "cell_type": "markdown",
   "metadata": {},
   "source": [
    "Note The test result suggests the groups don't have the same sample means in this case, since the p-value is significant at a 99% confidence level. Here the p-value returned is 0.00305 which is < 0.05"
   ]
  },
  {
   "cell_type": "markdown",
   "metadata": {},
   "source": [
    "3.Calculate F Test for given 10, 20, 30, 40, 50 and 5,10,15, 20, 25.\n",
    "For 10, 20, 30, 40, 50:"
   ]
  },
  {
   "cell_type": "code",
   "execution_count": 10,
   "metadata": {},
   "outputs": [
    {
     "data": {
      "text/plain": [
       "F_onewayResult(statistic=3.6, pvalue=0.0943497728424377)"
      ]
     },
     "execution_count": 10,
     "metadata": {},
     "output_type": "execute_result"
    }
   ],
   "source": [
    "stats.f_oneway([10, 20, 30, 40, 50],[5,10,15, 20, 25])"
   ]
  },
  {
   "cell_type": "code",
   "execution_count": 11,
   "metadata": {},
   "outputs": [
    {
     "name": "stdout",
     "output_type": "stream",
     "text": [
      "F Test for given 10, 20, 30, 40, 50 and 5,10,15, 20, 25 is :  4.0\n"
     ]
    }
   ],
   "source": [
    "Group1 = [10, 20, 30, 40, 50]\n",
    "Group2 = [5,10,15, 20, 25]\n",
    "\n",
    "mean_1 = np.mean(Group1)\n",
    "mean_2 = np.mean(Group2)\n",
    "\n",
    "grp1_sub_mean1 = []\n",
    "grp2_sub_mean2 = []\n",
    "add1 = 0\n",
    "add2 = 0\n",
    "for items in Group1:\n",
    "    add1 += (items - mean_1)**2\n",
    "for items in Group2:\n",
    "    add2 += (items - mean_2)**2\n",
    "var1 = add1/(len(Group1)-1)\n",
    "var2 = add2/(len(Group2)-1)\n",
    "\n",
    "F_Test = var1/var2\n",
    "print(\"F Test for given 10, 20, 30, 40, 50 and 5,10,15, 20, 25 is : \",F_Test)"
   ]
  }
 ],
 "metadata": {
  "kernelspec": {
   "display_name": "Python 3",
   "language": "python",
   "name": "python3"
  },
  "language_info": {
   "codemirror_mode": {
    "name": "ipython",
    "version": 3
   },
   "file_extension": ".py",
   "mimetype": "text/x-python",
   "name": "python",
   "nbconvert_exporter": "python",
   "pygments_lexer": "ipython3",
   "version": "3.7.3"
  }
 },
 "nbformat": 4,
 "nbformat_minor": 2
}
