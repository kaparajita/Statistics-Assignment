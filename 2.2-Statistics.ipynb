{
 "cells": [
  {
   "cell_type": "markdown",
   "metadata": {},
   "source": [
    "1.A test is conducted which is consisting of 20 MCQs (multiple choices questions)\n",
    "with every MCQ having its four options out of which only one is correct.\n",
    "Determine the probability that a person undertaking that test has answered\n",
    "exactly 5 questions wrong."
   ]
  },
  {
   "cell_type": "code",
   "execution_count": 1,
   "metadata": {},
   "outputs": [],
   "source": [
    "from scipy.stats import binom"
   ]
  },
  {
   "cell_type": "code",
   "execution_count": 2,
   "metadata": {},
   "outputs": [
    {
     "data": {
      "text/plain": [
       "3.4264958230778575e-06"
      ]
     },
     "execution_count": 2,
     "metadata": {},
     "output_type": "execute_result"
    }
   ],
   "source": [
    "n= 20 \n",
    "r = 5\n",
    "#the probability of failuer = probability of giving a right answer\n",
    "s = 1/4\n",
    "#the probability of success = probability of giving a wrong answer (1 - s) \n",
    "q = 3/4\n",
    "# Its a binomial distribution\n",
    "# p(X = 5) = ncr * q**r * s**n-r\n",
    "\n",
    "import scipy.special as sp\n",
    "ncr = sp.comb(20,5)\n",
    "probOffiveQuesWrong = ncr * q**r * s**(n-r)\n",
    "probOffiveQuesWrong"
   ]
  },
  {
   "cell_type": "code",
   "execution_count": 3,
   "metadata": {},
   "outputs": [
    {
     "data": {
      "text/plain": [
       "3.4264958230778435e-06"
      ]
     },
     "execution_count": 3,
     "metadata": {},
     "output_type": "execute_result"
    }
   ],
   "source": [
    "binom.pmf(5, 20, 3/4)"
   ]
  },
  {
   "cell_type": "markdown",
   "metadata": {},
   "source": [
    "2.A die marked A to E is rolled 50 times. Find the probability of getting a\n",
    "“D” exactly 5 times."
   ]
  },
  {
   "cell_type": "code",
   "execution_count": 4,
   "metadata": {},
   "outputs": [
    {
     "data": {
      "text/plain": [
       "0.029531204310524296"
      ]
     },
     "execution_count": 4,
     "metadata": {},
     "output_type": "execute_result"
    }
   ],
   "source": [
    "n =50\n",
    "r= 5\n",
    "#the probability of gettinng \"D\" success\n",
    "q = 1/5\n",
    "\n",
    "#the probability of  not getting D failuer\n",
    "s = 1 - q\n",
    "ncr = sp.comb(50,5)\n",
    "probOfDGetting5Times = ncr * q**r * s**(n-r)\n",
    "probOfDGetting5Times"
   ]
  },
  {
   "cell_type": "code",
   "execution_count": 5,
   "metadata": {},
   "outputs": [
    {
     "data": {
      "text/plain": [
       "0.029531204310523224"
      ]
     },
     "execution_count": 5,
     "metadata": {},
     "output_type": "execute_result"
    }
   ],
   "source": [
    "binom.pmf(5, 50, 1/5)"
   ]
  },
  {
   "cell_type": "markdown",
   "metadata": {},
   "source": [
    "3.Two balls are drawn at random in succession without replacement from an urn\n",
    "containing 4 red balls and 6 black balls.\n",
    "Find the probabilities of all the possible outcomes."
   ]
  },
  {
   "cell_type": "code",
   "execution_count": 6,
   "metadata": {},
   "outputs": [
    {
     "name": "stdout",
     "output_type": "stream",
     "text": [
      "The probability of (R,R) is 0.13\n",
      "The probability of (R,B) is 0.27\n",
      "The probability of (B,R) is 0.27\n",
      "The probability of (B,B) is 0.33\n"
     ]
    }
   ],
   "source": [
    "redballs = 4\n",
    "blackballs = 6\n",
    "totalballs = redballs+blackballs\n",
    "#probabilty of red balls  redballs/totalballs = 4/10\n",
    "#probabilty of black balls  blackballs/totalballs = 6/10\n",
    "#draw two balls without replacement the above is example of conditional probability\n",
    "#The possible outcomes (R,R),(R,B),(B,R),(B,B)\n",
    "#P((R,R)) = P(R) * P(R/R) = (4/10) * (3/9) = 2/15\n",
    "\n",
    "#P((R,B)) = P(R) * P(R/B) = (4/10) * (6/9) = 4/15\n",
    "\n",
    "#P((B,R)) = P(B) * P(B/R) = (6/10) * (4/9) = 4/15\n",
    "\n",
    "#P((B,B)) = P(B) * P(B/B) = (6/10) * (5/9) = 1/3\n",
    "\n",
    "print(\"The probability of (R,R) is\",round((4/10)*(3/9),2))\n",
    "print(\"The probability of (R,B) is\",round((4/10)*(6/9),2))\n",
    "print(\"The probability of (B,R) is\",round((6/10)*(4/9),2))\n",
    "print(\"The probability of (B,B) is\",round((6/10)*(5/9),2))"
   ]
  }
 ],
 "metadata": {
  "kernelspec": {
   "display_name": "Python 3",
   "language": "python",
   "name": "python3"
  },
  "language_info": {
   "codemirror_mode": {
    "name": "ipython",
    "version": 3
   },
   "file_extension": ".py",
   "mimetype": "text/x-python",
   "name": "python",
   "nbconvert_exporter": "python",
   "pygments_lexer": "ipython3",
   "version": "3.7.3"
  }
 },
 "nbformat": 4,
 "nbformat_minor": 2
}
